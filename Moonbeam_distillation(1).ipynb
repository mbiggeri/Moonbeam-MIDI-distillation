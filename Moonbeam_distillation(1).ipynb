{
  "cells": [
    {
      "cell_type": "code",
      "execution_count": null,
      "metadata": {
        "id": "sMf1CRwYedvd"
      },
      "outputs": [],
      "source": [
        "%pip install -r requirements.txt"
      ]
    },
    {
      "cell_type": "code",
      "execution_count": null,
      "metadata": {
        "id": "bOvV38kXeecu"
      },
      "outputs": [],
      "source": [
        "%pip install -e ."
      ]
    },
    {
      "cell_type": "code",
      "execution_count": null,
      "metadata": {
        "id": "qJJ_OnYKekOK"
      },
      "outputs": [],
      "source": [
        "%pip install src/llama_recipes/transformers_minimal/."
      ]
    },
    {
      "cell_type": "code",
      "execution_count": null,
      "metadata": {
        "id": "Hpjn8v6ywVxc"
      },
      "outputs": [],
      "source": [
        "!pip uninstall llama_recipes"
      ]
    },
    {
      "cell_type": "code",
      "execution_count": null,
      "metadata": {
        "colab": {
          "base_uri": "https://localhost:8080/"
        },
        "id": "UmnJK_a_j86a",
        "outputId": "c0bed4eb-de40-4f7e-d4b5-473730a5df61"
      },
      "outputs": [],
      "source": [
        "# Fondi l'adattatore e il modello base per creare correttamente il modello teacher\n",
        "!python \"C:\\Users\\Michael\\Desktop\\Moonbeam-MIDI-Distillation\\recipes\\inference\\model_servers\\hf_text_generation_inference\\merge_lora_weights.py\" \\\n",
        "    --base_model \"C:\\Users\\Michael\\Desktop\\ModelliMusicGenerator\\MOONBEAM\\base_model\" \\\n",
        "    --peft_model \"C:\\Users\\Michael\\Desktop\\ModelliMusicGenerator\\MOONBEAM\\peft_model\" \\\n",
        "    --base_model_weights \"C:\\Users\\Michael\\Desktop\\ModelliMusicGenerator\\MOONBEAM\\base_model\\moonbeam_839M.pt\" \\\n",
        "    --output_dir \"C:\\Users\\Michael\\Desktop\\Moonbeam-MIDI-Distillation\\models\\moonbeam_teacher_checkpoint\""
      ]
    },
    {
      "cell_type": "code",
      "execution_count": 24,
      "metadata": {
        "id": "YsISsezjK4ro"
      },
      "outputs": [
        {
          "name": "stderr",
          "output_type": "stream",
          "text": [
            "The installed version of bitsandbytes was compiled without GPU support. 8-bit optimizers and GPU quantization are unavailable.\n",
            "C:\\Users\\Michael\\Desktop\\Moonbeam-MIDI-Distillation\\src\\llama_recipes\\model_checkpointing\\checkpoint_handler.py:17: DeprecationWarning: `torch.distributed._shard.checkpoint` will be deprecated, use `torch.distributed.checkpoint` instead\n",
            "  from torch.distributed._shard.checkpoint import (\n",
            "Traceback (most recent call last):\n",
            "  File \"C:\\Users\\Michael\\Desktop\\Moonbeam-MIDI-Distillation\\recipes\\distillation\\distillation.py\", line 146, in <module>\n",
            "    fire.Fire(main)\n",
            "  File \"c:\\Users\\Michael\\Desktop\\Moonbeam-MIDI-Distillation\\.venv\\lib\\site-packages\\fire\\core.py\", line 135, in Fire\n",
            "    component_trace = _Fire(component, args, parsed_flag_args, context, name)\n",
            "  File \"c:\\Users\\Michael\\Desktop\\Moonbeam-MIDI-Distillation\\.venv\\lib\\site-packages\\fire\\core.py\", line 468, in _Fire\n",
            "    component, remaining_args = _CallAndUpdateTrace(\n",
            "  File \"c:\\Users\\Michael\\Desktop\\Moonbeam-MIDI-Distillation\\.venv\\lib\\site-packages\\fire\\core.py\", line 684, in _CallAndUpdateTrace\n",
            "    component = fn(*varargs, **kwargs)\n",
            "  File \"C:\\Users\\Michael\\Desktop\\Moonbeam-MIDI-Distillation\\recipes\\distillation\\distillation.py\", line 55, in main\n",
            "    print(f\"Caricamento del modello Teacher da checkpoint: {train_config.teacher_model_checkpoint}\")\n",
            "AttributeError: 'train_config' object has no attribute 'teacher_model_checkpoint'\n"
          ]
        }
      ],
      "source": [
        "# TRAINING DEL MODELLO DISTILLATO (TINY)\n",
        "!python \"C:\\Users\\Michael\\Desktop\\Moonbeam-MIDI-Distillation\\recipes\\distillation\\distillation.py\" \\\n",
        "    --model_name \"C:\\Users\\Michael\\Desktop\\ModelliMusicGenerator\\MOONBEAM\\base_model\\moonbeam_839M.pt\" \\\n",
        "    --teacher_model_config \"C:\\Users\\Michael\\Desktop\\Moonbeam-MIDI-Distillation\\src\\llama_recipes\\configs\\model_config.json\" \\\n",
        "    --tokenizer_name \"C:\\Users\\Michael\\Desktop\\ModelliMusicGenerator\\MOONBEAM\\base_model\" \\\n",
        "    --model_config_file \"C:\\Users\\Michael\\Desktop\\Moonbeam-MIDI-Distillation\\src\\llama_recipes\\configs\\model_config_tiny.json\" \\\n",
        "    --csv_file \"C:\\Users\\Michael\\Desktop\\MusicDatasets\\Datasets\\Moonbeam_Distillation\\processed_data\\train_test_split.csv\" \\\n",
        "    --data_dir \"C:\\Users\\Michael\\Desktop\\MusicDatasets\\Datasets\\Moonbeam_Distillation\\processed_data\" \\\n",
        "    --output_dir \"C:\\Users\\Michael\\Desktop\\ModelliMusicGenerator\\MOONBEAM\\distilled\" \\\n",
        "    --batching_strategy \"padding\" \\\n",
        "    --alpha_distil 0.2 \\\n",
        "    --temperature 2.0 \\\n",
        "    --batch_size_training 4 \\\n",
        "    --num_epochs 5 \\\n",
        "    --lr 3e-5"
      ]
    }
  ],
  "metadata": {
    "accelerator": "GPU",
    "colab": {
      "gpuType": "T4",
      "provenance": []
    },
    "kernelspec": {
      "display_name": ".venv",
      "language": "python",
      "name": "python3"
    },
    "language_info": {
      "codemirror_mode": {
        "name": "ipython",
        "version": 3
      },
      "file_extension": ".py",
      "mimetype": "text/x-python",
      "name": "python",
      "nbconvert_exporter": "python",
      "pygments_lexer": "ipython3",
      "version": "3.10.11"
    }
  },
  "nbformat": 4,
  "nbformat_minor": 0
}
